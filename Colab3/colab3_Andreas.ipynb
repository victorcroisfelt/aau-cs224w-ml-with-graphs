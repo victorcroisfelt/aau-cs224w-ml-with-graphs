{
  "cells": [
    {
      "cell_type": "markdown",
      "metadata": {
        "id": "XuXWJLEm2UWS"
      },
      "source": [
        "# **CS224W - Colab 3**"
      ]
    },
    {
      "cell_type": "markdown",
      "metadata": {
        "id": "8gzsP50bF6Gb"
      },
      "source": [
        "In Colab 2 we constructed GNN models by using PyTorch Geometric's built in GCN layer, `GCNConv`. In this Colab we will go a step deeper and implement the **GraphSAGE** ([Hamilton et al. (2017)](https://arxiv.org/abs/1706.02216)) layer directly. Then we will run our models on the CORA dataset, which is a standard citation network benchmark dataset.\n",
        "\n",
        "**Note**: Make sure to **sequentially run all the cells in each section** so that the intermediate variables / packages will carry over to the next cell\n",
        "\n",
        "Have fun and good luck on Colab 3 :)"
      ]
    },
    {
      "cell_type": "markdown",
      "metadata": {
        "id": "MSaetj53YnT6"
      },
      "source": [
        "# Device\n",
        "We recommend using a GPU for this Colab.\n",
        "\n",
        "Please click `Runtime` and then `Change runtime type`. Then set the `hardware accelerator` to **GPU**."
      ]
    },
    {
      "cell_type": "markdown",
      "metadata": {
        "id": "67gOQITlCNQi"
      },
      "source": [
        "## Installation"
      ]
    },
    {
      "cell_type": "code",
      "execution_count": 12,
      "metadata": {
        "colab": {
          "base_uri": "https://localhost:8080/"
        },
        "id": "J_m9l6OYCQZP",
        "outputId": "c64fadc7-2007-4c57-c49e-16d8be113d71"
      },
      "outputs": [
        {
          "name": "stdout",
          "output_type": "stream",
          "text": [
            "Looking in links: https://pytorch-geometric.com/whl/torch-1.9.0+cu111.html\n",
            "Requirement already satisfied: torch-scatter in /home/andreas/.local/lib/python3.8/site-packages (2.0.9)\n",
            "Looking in links: https://pytorch-geometric.com/whl/torch-1.9.0+cu111.html\n",
            "Requirement already satisfied: torch-sparse in /home/andreas/.local/lib/python3.8/site-packages (0.6.12)\n",
            "Requirement already satisfied: scipy in /home/andreas/.local/lib/python3.8/site-packages (from torch-sparse) (1.7.2)\n",
            "Requirement already satisfied: numpy<1.23.0,>=1.16.5 in /home/andreas/.local/lib/python3.8/site-packages (from scipy->torch-sparse) (1.21.4)\n",
            "Requirement already satisfied: torch-geometric in /home/andreas/.local/lib/python3.8/site-packages (2.0.2)\n",
            "Requirement already satisfied: PyYAML in /usr/lib/python3/dist-packages (from torch-geometric) (5.3.1)\n",
            "Requirement already satisfied: googledrivedownloader in /home/andreas/.local/lib/python3.8/site-packages (from torch-geometric) (0.4)\n",
            "Requirement already satisfied: tqdm in /home/andreas/.local/lib/python3.8/site-packages (from torch-geometric) (4.62.3)\n",
            "Requirement already satisfied: scipy in /home/andreas/.local/lib/python3.8/site-packages (from torch-geometric) (1.7.2)\n",
            "Requirement already satisfied: requests in /usr/lib/python3/dist-packages (from torch-geometric) (2.22.0)\n",
            "Requirement already satisfied: pandas in /home/andreas/.local/lib/python3.8/site-packages (from torch-geometric) (1.3.4)\n",
            "Requirement already satisfied: numpy in /home/andreas/.local/lib/python3.8/site-packages (from torch-geometric) (1.21.4)\n",
            "Requirement already satisfied: rdflib in /home/andreas/.local/lib/python3.8/site-packages (from torch-geometric) (6.0.2)\n",
            "Requirement already satisfied: yacs in /home/andreas/.local/lib/python3.8/site-packages (from torch-geometric) (0.1.8)\n",
            "Requirement already satisfied: jinja2 in /home/andreas/.local/lib/python3.8/site-packages (from torch-geometric) (3.0.3)\n",
            "Requirement already satisfied: scikit-learn in /home/andreas/.local/lib/python3.8/site-packages (from torch-geometric) (1.0.1)\n",
            "Requirement already satisfied: networkx in /home/andreas/.local/lib/python3.8/site-packages (from torch-geometric) (2.6.3)\n",
            "Requirement already satisfied: pyparsing in /home/andreas/.local/lib/python3.8/site-packages (from torch-geometric) (3.0.6)\n",
            "Requirement already satisfied: python-dateutil>=2.7.3 in /usr/lib/python3/dist-packages (from pandas->torch-geometric) (2.7.3)\n",
            "Requirement already satisfied: pytz>=2017.3 in /usr/lib/python3/dist-packages (from pandas->torch-geometric) (2019.3)\n",
            "Requirement already satisfied: isodate in /home/andreas/.local/lib/python3.8/site-packages (from rdflib->torch-geometric) (0.6.0)\n",
            "Requirement already satisfied: setuptools in /usr/lib/python3/dist-packages (from rdflib->torch-geometric) (45.2.0)\n",
            "Requirement already satisfied: MarkupSafe>=2.0 in /home/andreas/.local/lib/python3.8/site-packages (from jinja2->torch-geometric) (2.0.1)\n",
            "Requirement already satisfied: threadpoolctl>=2.0.0 in /home/andreas/.local/lib/python3.8/site-packages (from scikit-learn->torch-geometric) (3.0.0)\n",
            "Requirement already satisfied: joblib>=0.11 in /home/andreas/.local/lib/python3.8/site-packages (from scikit-learn->torch-geometric) (1.1.0)\n",
            "Requirement already satisfied: six in /usr/lib/python3/dist-packages (from isodate->rdflib->torch-geometric) (1.14.0)\n"
          ]
        }
      ],
      "source": [
        "# Install torch geometric\n",
        "import os\n",
        "if 'IS_GRADESCOPE_ENV' not in os.environ:\n",
        "  !pip install torch-scatter -f https://pytorch-geometric.com/whl/torch-1.9.0+cu111.html\n",
        "  !pip install torch-sparse -f https://pytorch-geometric.com/whl/torch-1.9.0+cu111.html\n",
        "  !pip install torch-geometric\n",
        "  !pip install -q git+https://github.com/snap-stanford/deepsnap.git"
      ]
    },
    {
      "cell_type": "code",
      "execution_count": 13,
      "metadata": {
        "colab": {
          "base_uri": "https://localhost:8080/",
          "height": 35
        },
        "id": "PRfgbfTjCRD_",
        "outputId": "7d78402e-5e4d-405b-9980-8592b2f49744"
      },
      "outputs": [
        {
          "data": {
            "text/plain": [
              "'2.0.2'"
            ]
          },
          "execution_count": 13,
          "metadata": {},
          "output_type": "execute_result"
        }
      ],
      "source": [
        "import torch_geometric\n",
        "torch_geometric.__version__"
      ]
    },
    {
      "cell_type": "markdown",
      "metadata": {
        "id": "ZoXlf4MtYrbz"
      },
      "source": [
        "# 1) GNN Layers"
      ]
    },
    {
      "cell_type": "markdown",
      "metadata": {
        "id": "TQy2RBfgYut4"
      },
      "source": [
        "## Implementing Layer Modules\n",
        "\n",
        "In Colab 2, we implemented a GCN model for node and graph classification tasks. However, for that notebook we took advantage of PyG's built in GCN module. For Colab 3, we provide a build upon a general Graph Neural Network Stack, into which we will be able to plugin our own module implementations: GraphSAGE and GAT.\n",
        "\n",
        "We will then use our layer implemenations to complete node classification on the CORA dataset, a standard citation network benchmark. In this dataset, nodes correspond to documents and edges correspond to undirected citations. Each node or document in the graph is assigned a class label and features based on the documents binarized bag-of-words representation. Specifically, the Cora graph has 2708 nodes, 5429 edges, 7 prediction classes, and 1433 features per node. "
      ]
    },
    {
      "cell_type": "markdown",
      "metadata": {
        "id": "H4ne6Gw-CT5G"
      },
      "source": [
        "## GNN Stack Module\n",
        "\n",
        "Below is the implementation of a general GNN stack, where we can plugin any GNN layer, such as **GraphSage**, **GAT**, etc. This module is provided for you. Your implementations of the **GraphSage** and **GAT** (Colab 4) layers will function as components in the GNNStack Module."
      ]
    },
    {
      "cell_type": "code",
      "execution_count": 14,
      "metadata": {
        "id": "Ys8vZAFPCWWe"
      },
      "outputs": [],
      "source": [
        "import torch\n",
        "import torch_scatter\n",
        "import torch.nn as nn\n",
        "import torch.nn.functional as F\n",
        "\n",
        "import torch_geometric.nn as pyg_nn\n",
        "import torch_geometric.utils as pyg_utils\n",
        "\n",
        "from torch import Tensor\n",
        "from typing import Union, Tuple, Optional\n",
        "from torch_geometric.typing import (OptPairTensor, Adj, Size, NoneType,\n",
        "                                    OptTensor)\n",
        "\n",
        "from torch.nn import Parameter, Linear\n",
        "from torch_sparse import SparseTensor, set_diag\n",
        "from torch_geometric.nn.conv import MessagePassing\n",
        "from torch_geometric.utils import remove_self_loops, add_self_loops, softmax\n",
        "\n",
        "class GNNStack(torch.nn.Module):\n",
        "    def __init__(self, input_dim, hidden_dim, output_dim, args, emb=False):\n",
        "        super(GNNStack, self).__init__()\n",
        "        conv_model = self.build_conv_model(args.model_type)\n",
        "        self.convs = nn.ModuleList()\n",
        "        self.convs.append(conv_model(input_dim, hidden_dim))\n",
        "        assert (args.num_layers >= 1), 'Number of layers is not >=1'\n",
        "        for l in range(args.num_layers-1):\n",
        "            self.convs.append(conv_model(args.heads * hidden_dim, hidden_dim))\n",
        "        \n",
        "        # post-message-passing\n",
        "        self.post_mp = nn.Sequential(\n",
        "            nn.Linear(args.heads * hidden_dim, hidden_dim), nn.Dropout(args.dropout), \n",
        "            nn.Linear(hidden_dim, output_dim))\n",
        "\n",
        "        self.dropout = args.dropout\n",
        "        self.num_layers = args.num_layers\n",
        "\n",
        "        self.emb = emb\n",
        "\n",
        "    def build_conv_model(self, model_type):\n",
        "        \n",
        "        if model_type == 'GraphSage':\n",
        "            return GraphSage\n",
        "            \n",
        "        elif model_type == 'GAT':\n",
        "            # When applying GAT with num heads > 1, you need to modify the \n",
        "            # input and output dimension of the conv layers (self.convs),\n",
        "            # to ensure that the input dim of the next layer is num heads\n",
        "            # multiplied by the output dim of the previous layer.\n",
        "            # HINT: In case you want to play with multiheads, you need to change the for-loop that builds up self.convs to be\n",
        "            # self.convs.append(conv_model(hidden_dim * num_heads, hidden_dim)), \n",
        "            # and also the first nn.Linear(hidden_dim * num_heads, hidden_dim) in post-message-passing.\n",
        "            return GAT\n",
        "\n",
        "    def forward(self, data):\n",
        "        x, edge_index, batch = data.x, data.edge_index, data.batch\n",
        "          \n",
        "        for i in range(self.num_layers):\n",
        "            x = self.convs[i](x, edge_index)\n",
        "            x = F.relu(x)\n",
        "            x = F.dropout(x, p=self.dropout,training=self.training)\n",
        "\n",
        "        x = self.post_mp(x)\n",
        "\n",
        "        if self.emb == True:\n",
        "            return x\n",
        "\n",
        "        return F.log_softmax(x, dim=1)\n",
        "\n",
        "    def loss(self, pred, label):\n",
        "        return F.nll_loss(pred, label)"
      ]
    },
    {
      "cell_type": "markdown",
      "metadata": {
        "id": "5nW_XpEwASNZ"
      },
      "source": [
        "## Creating Our Own Message Passing Layer\n",
        "\n",
        "Now let's start implementing our own message passing layers! Working through this part will help us become acutely familiar with the behind the scenes work of implementing Pytorch Message Passing Layers, allowing us to build our own GNN models. To do so, we will work with and implement 3 critcal functions needed to define a PyG Message Passing Layer: `forward`, `message`, and `aggregate`.\n",
        "\n",
        "Before diving head first into the coding details, let us quickly review the key components of the message passing process. To do so, we will focus on a single round of messsage passing with respect to a single central node $x$. Before message passing, $x$ is associated with a feature vector $x^{l-1}$, and the goal of message passing is to update this feature vector as $x^l$. To do so, we implement the following steps: 1) each neighboring node $v$ passes its current message $v^{l-1}$ across the edge $(x, v)$ - 2) for the node $x$, we aggregate all of the messages of the neighboring nodes (for example through a sum or mean) - and 3) we transform the aggregated information by for example applying linear and non-linear transformations. Altogether, the message passing process is applied such that every node $u$ in our graph updates its embedding by acting as the central node $x$ in step 1-3 described above. \n",
        "\n",
        "Now, we extending this process to that of a single message passing layer, the job of a message passing layer is to update the current feature representation or embedding of each node in a graph by propagating and transforming information within the graph. Overall, the general paradigm of a message passing layers is: 1) pre-processing -> 2) **message passing** / propagation -> 3) post-processing. \n",
        "\n",
        "The `forward` fuction that we will implement for our message passing layer captures this execution logic. Namely, the `forward` function handles the pre and post-processing of node features / embeddings, as well as initiates message passing by calling the `propagate` function. \n",
        "\n",
        "\n",
        "The `propagate` function encapsulates the message passing process! It does so by calling three important functions: 1) `message`, 2) `aggregate`, and 3) `update`. Our implementation will vary slightly from this, as we will not explicitly implement `update`, but instead place the logic for updating node embeddings after message passing and within the `forward` function. To be more specific, after information is propagated (message passing), we can further transform the node embeddings outputed by `propagate`. Therefore, the output of `forward` is exactly the node embeddings after one GNN layer.\n",
        "\n",
        "Lastly, before starting to implement our own layer, let us dig a bit deeper into each of the functions described above:\n",
        "\n",
        "1. \n",
        "\n",
        "```\n",
        "def propagate(edge_index, x=(x_i, x_j), extra=(extra_i, extra_j), size=size):\n",
        "```\n",
        "Calling `propagate` initiates the message passing process. Looking at the function parameters, we highlight a couple of key parameters. \n",
        "\n",
        "  - `edge_index` is passed to the forward function and captures the edge structure of the graph.\n",
        "  - `x=(x_i, x_j)` represents the node features that will be used in message passing. In order to explain why we pass the tuple `(x_i, x_j)`, we first look at how our edges are represented. For every edge $(i, j) \\in \\mathcal{E}$, we can differentiate $i$ as the source or central node ($x_{central}$) and j as the neighboring node ($x_{neighbor}$). \n",
        "  \n",
        "    Taking the example of message passing above, for a central node $u$ we will aggregate and transform all of the messages associated with the nodes $v$ s.t. $(u, v) \\in \\mathcal{E}$ (i.e. $v \\in \\mathcal{N}_{u}$). Thus we see, the subscripts `_i` and `_j` allow us to specifcally differenciate features associated with central nodes (i.e. nodes  recieving message information) and neighboring nodes (i.e. nodes passing messages). \n",
        "\n",
        "    This is definitely a somewhat confusing concept; however, one key thing to remember / wrap your head around is that depending on the perspective, a node $x$ acts as a central node or a neighboring node. In fact, in undirected graphs we store both edge directions (i.e. $(i, j)$ and $(j, i)$). From the central node perspective, `x_i`, x is collecting neighboring information to update its embedding. From a neighboring node perspective, `x_j`, x is passing its message information along the edge connecting it to a different central node.\n",
        "\n",
        "  - `extra=(extra_i, extra_j)` represents additional information that we can associate with each node beyond its current feature embedding. In fact, we can include as many additional parameters of the form `param=(param_i, param_j)` as we would like. Again, we highlight that indexing with `_i` and `_j` allows us to differentiate central and neighboring nodes. \n",
        "\n",
        "  The output of the `propagate` function is a matrix of node embeddings after the message passing process and has shape $[N, d]$.\n",
        "\n",
        "2. \n",
        "```\n",
        "def message(x_j, ...):\n",
        "```\n",
        "The `message` function is called by propagate and constructs the messages from\n",
        "neighboring nodes $j$ to central nodes $i$ for each edge $(i, j)$ in *edge_index*. This function can take any argument that was initially passed to `propagate`. Furthermore, we can again differentiate central nodes and neighboring nodes by appending `_i` or `_j` to the variable name, .e.g. `x_i` and `x_j`. Looking more specifically at the variables, we have:\n",
        "\n",
        "  - `x_j` represents a matrix of feature embeddings for all neighboring nodes passing their messages along their respective edge (i.e. all nodes $j$ for edges $(i, j) \\in \\mathcal{E}$). Thus, its shape is $[|\\mathcal{E}|, d]$!\n",
        "  - In implementing GAT we will see how to access additional variables passed to propagate\n",
        "\n",
        "  Critically, we see that the output of the `message` function is a matrix of neighboring node embeddings ready to be aggregated, having shape $[|\\mathcal{E}|, d]$.\n",
        "\n",
        "3. \n",
        "```\n",
        "def aggregate(self, inputs, index, dim_size = None):\n",
        "```\n",
        "Lastly, the `aggregate` function is used to aggregate the messages from neighboring nodes. Looking at the parameters we highlight:\n",
        "\n",
        "  - `inputs` represents a matrix of the messages passed from neighboring nodes (i.e. the output of the `message` function).\n",
        "  - `index` has the same shape as `inputs` and tells us the central node that corresponding to each of the rows / messages $j$ in the `inputs` matrix. Thus, `index` tells us which rows / messages to aggregate for each central node.\n",
        "\n",
        "  The output of `aggregate` is of shape $[N, d]$.\n",
        "\n",
        "\n",
        "For additional resources refer to the PyG documentation for implementing custom message passing layers: https://pytorch-geometric.readthedocs.io/en/latest/notes/create_gnn.html"
      ]
    },
    {
      "cell_type": "markdown",
      "metadata": {
        "id": "syDtxjxoCZgq"
      },
      "source": [
        "## GraphSage Implementation\n",
        "\n",
        "For our first GNN layer, we will implement the well known GraphSage ([Hamilton et al. (2017)](https://arxiv.org/abs/1706.02216)) layer! \n",
        "\n",
        "For a given *central* node $v$ with current embedding $h_v^{l-1}$, the message passing update rule to tranform $h_v^{l-1} \\rightarrow h_v^l$ is as follows: \n",
        "\n",
        "\\begin{equation}\n",
        "h_v^{(l)} = W_l\\cdot h_v^{(l-1)} + W_r \\cdot AGG(\\{h_u^{(l-1)}, \\forall u \\in N(v) \\})\n",
        "\\end{equation}\n",
        "\n",
        "where $W_1$ and $W_2$ are learanble weight matrices and the nodes $u$ are *neighboring* nodes. Additionally, we use mean aggregation for simplicity:\n",
        "\n",
        "\\begin{equation}\n",
        "AGG(\\{h_u^{(l-1)}, \\forall u \\in N(v) \\}) = \\frac{1}{|N(v)|} \\sum_{u\\in N(v)} h_u^{(l-1)}\n",
        "\\end{equation}\n",
        "\n",
        "One thing to note is that we're adding a **skip connection** to our GraphSage implementation through the term $W_l\\cdot h_v^{(l-1)}$. \n",
        "\n",
        "Before implementing this update rule, we encourage you to think about how different parts of the formulas above correspond with the functions outlined earlier: 1) `forward`, 2) `message`, and 3) `aggregate`. As a hint, we are given what the aggregation function is (i.e. mean aggregation)! Now the question remains, what are the messages passed by each neighbor nodes and when do we call the `propagate` function? \n",
        "\n",
        "Note: in this case the message function or messages are actually quite simple. Additionally, remember that the `propagate` function encapsulates the operations of / the outputs of the combined `message` and `aggregate` functions.\n",
        "\n",
        "\n",
        "Lastly, $\\ell$-2 normalization of the node embeddings is applied after each iteration.\n",
        "\n",
        "\n",
        "<font color='red'>For the following questions, DON'T refer to any existing implementations online.</font>"
      ]
    },
    {
      "cell_type": "code",
      "execution_count": 15,
      "metadata": {
        "id": "RwG4HqCFCaOD"
      },
      "outputs": [],
      "source": [
        "class GraphSage(MessagePassing):\n",
        "    \n",
        "    def __init__(self, in_channels, out_channels, normalize = True,\n",
        "                 bias = False, **kwargs):  \n",
        "        super(GraphSage, self).__init__(**kwargs)\n",
        "\n",
        "        self.in_channels = in_channels\n",
        "        self.out_channels = out_channels\n",
        "        self.normalize = normalize\n",
        "        self.lin_l = None\n",
        "        self.lin_r = None\n",
        "\n",
        "        ############################################################################\n",
        "        # TODO: Your code here! \n",
        "        # Define the layers needed for the message and update functions below.\n",
        "        # self.lin_l is the linear transformation that you apply to embedding \n",
        "        #            for central node.\n",
        "        # self.lin_r is the linear transformation that you apply to aggregated \n",
        "        #            message from neighbors.\n",
        "        # Don't forget the bias!\n",
        "        # Our implementation is ~2 lines, but don't worry if you deviate from this.\n",
        "        self.lin_l = nn.Linear(self.in_channels, self.out_channels, bias = bias)\n",
        "        self.lin_r = nn.Linear(self.in_channels, self.out_channels, bias = bias) # not done...\n",
        "\n",
        "        ############################################################################\n",
        "\n",
        "        self.reset_parameters()\n",
        "\n",
        "    def reset_parameters(self):\n",
        "        self.lin_l.reset_parameters()\n",
        "        self.lin_r.reset_parameters()\n",
        "\n",
        "    def forward(self, x, edge_index, size = None):\n",
        "        \"\"\"\"\"\"\n",
        "\n",
        "        out = None\n",
        "\n",
        "        ############################################################################\n",
        "        # TODO: Your code here! \n",
        "        # Implement message passing, as well as any post-processing (our update rule).\n",
        "        # 1. Call the propagate function to conduct the message passing.\n",
        "        #    1.1 See the description of propagate above or the following link for more information: \n",
        "        #        https://pytorch-geometric.readthedocs.io/en/latest/notes/create_gnn.html\n",
        "        #    1.2 We will only use the representation for neighbor nodes (x_j), so by default\n",
        "        #        we pass the same representation for central and neighbor nodes as x=(x, x). \n",
        "        # 2. Update our node embedding with skip connection from the previous layer.\n",
        "        # 3. If normalize is set, do L-2 normalization (defined in \n",
        "        #    torch.nn.functional)\n",
        "        #\n",
        "        # Our implementation is ~5 lines, but don't worry if you deviate from this.\n",
        "\n",
        "        ############################################################################\n",
        "        x_j = torch.zeros([edge_index[1].size()[0],x.size()[1]])\n",
        "        for i in range(edge_index[1].size()[0]): # find better way    \n",
        "            x_j[i] = x[edge_index[1][i]]\n",
        "        agg = self.aggregate(x_j, edge_index[0],x.size()[0])\n",
        "        out = self.lin_l(x) + self.lin_r(agg)\n",
        "\n",
        "        if (self.normalize == 1):\n",
        "            out=F.normalize(out,p=2)\n",
        "        return out #Combined message parssing for all nodes\n",
        "\n",
        "    def message(self, x_j):\n",
        "        #print(\"test\")\n",
        "        out = None\n",
        "\n",
        "        ############################################################################\n",
        "        # TODO: Your code here! \n",
        "        # Implement your message function here.\n",
        "        # Hint: Look at the formulation of the mean aggregation function, focusing on \n",
        "        # what message each neighboring node passes.\n",
        "        #\n",
        "        # Our implementation is ~1 lines, but don't worry if you deviate from this.\n",
        "        ############################################################################\n",
        "\n",
        "        return out\n",
        "\n",
        "    def aggregate(self, inputs, index, dim_size = None):\n",
        "\n",
        "        #out = None\n",
        "\n",
        "        # The axis along which to index number of nodes.\n",
        "        node_dim = self.node_dim\n",
        "\n",
        "        ############################################################################\n",
        "        # TODO: Your code here! \n",
        "        # Implement your aggregate function here.\n",
        "        # See here as how to use torch_scatter.scatter: \n",
        "        # https://pytorch-scatter.readthedocs.io/en/latest/functions/scatter.html#torch_scatter.scatter\n",
        "        #\n",
        "        # Our implementation is ~1 lines, but don't worry if you deviate from this.\n",
        "        out = torch_scatter.scatter(inputs, index, node_dim, dim_size=dim_size, reduce=\"mean\")\n",
        "\n",
        "\n",
        "        \n",
        "\n",
        "        ############################################################################\n",
        "\n",
        "        return out\n"
      ]
    },
    {
      "cell_type": "markdown",
      "metadata": {
        "id": "V2dkgSuWCheU"
      },
      "source": [
        "## Building Optimizers\n",
        "\n",
        "This function has been implemented for you. **For grading purposes please use the default Adam optimizer**, but feel free to play with other types of optimizers on your own."
      ]
    },
    {
      "cell_type": "code",
      "execution_count": 16,
      "metadata": {
        "id": "f_TIQ8NPCjBP"
      },
      "outputs": [],
      "source": [
        "import torch.optim as optim\n",
        "\n",
        "def build_optimizer(args, params):\n",
        "    weight_decay = args.weight_decay\n",
        "    filter_fn = filter(lambda p : p.requires_grad, params)\n",
        "    if args.opt == 'adam':\n",
        "        optimizer = optim.Adam(filter_fn, lr=args.lr, weight_decay=weight_decay)\n",
        "    elif args.opt == 'sgd':\n",
        "        optimizer = optim.SGD(filter_fn, lr=args.lr, momentum=0.95, weight_decay=weight_decay)\n",
        "    elif args.opt == 'rmsprop':\n",
        "        optimizer = optim.RMSprop(filter_fn, lr=args.lr, weight_decay=weight_decay)\n",
        "    elif args.opt == 'adagrad':\n",
        "        optimizer = optim.Adagrad(filter_fn, lr=args.lr, weight_decay=weight_decay)\n",
        "    if args.opt_scheduler == 'none':\n",
        "        return None, optimizer\n",
        "    elif args.opt_scheduler == 'step':\n",
        "        scheduler = optim.lr_scheduler.StepLR(optimizer, step_size=args.opt_decay_step, gamma=args.opt_decay_rate)\n",
        "    elif args.opt_scheduler == 'cos':\n",
        "        scheduler = optim.lr_scheduler.CosineAnnealingLR(optimizer, T_max=args.opt_restart)\n",
        "    return scheduler, optimizer"
      ]
    },
    {
      "cell_type": "markdown",
      "metadata": {
        "id": "hBYdWFwYCkwY"
      },
      "source": [
        "## Training and Testing\n",
        "\n",
        "Here we provide you with the functions to train and test. **Please do not modify this part for grading purposes.**"
      ]
    },
    {
      "cell_type": "code",
      "execution_count": 17,
      "metadata": {
        "id": "_tZMWRc8CmGg"
      },
      "outputs": [],
      "source": [
        "import time\n",
        "\n",
        "import networkx as nx\n",
        "import numpy as np\n",
        "import torch\n",
        "import torch.optim as optim\n",
        "from tqdm import trange\n",
        "import pandas as pd\n",
        "import copy\n",
        "\n",
        "from torch_geometric.datasets import TUDataset\n",
        "from torch_geometric.datasets import Planetoid\n",
        "from torch_geometric.data import DataLoader\n",
        "\n",
        "import torch_geometric.nn as pyg_nn\n",
        "\n",
        "import matplotlib.pyplot as plt\n",
        "\n",
        "\n",
        "def train(dataset, args):\n",
        "    \n",
        "    print(\"Node task. test set size:\", np.sum(dataset[0]['test_mask'].numpy()))\n",
        "    \n",
        "    test_loader = loader = DataLoader(dataset, batch_size=args.batch_size, shuffle=False)\n",
        "    \n",
        "    # build model\n",
        "    model = GNNStack(dataset.num_node_features, args.hidden_dim, dataset.num_classes, \n",
        "                            args)\n",
        "    scheduler, opt = build_optimizer(args, model.parameters())\n",
        "    \n",
        "    # train\n",
        "    losses = []\n",
        "    test_accs = []\n",
        "    best_acc = 0\n",
        "    best_model = None\n",
        "    for epoch in trange(args.epochs, desc=\"Training\", unit=\"Epochs\"):\n",
        "        total_loss = 0\n",
        "        model.train()\n",
        "        for batch in loader:\n",
        "            opt.zero_grad()\n",
        "            pred = model(batch) # runs here?\n",
        "            label = batch.y\n",
        "            pred = pred[batch.train_mask]\n",
        "            label = label[batch.train_mask]\n",
        "            loss = model.loss(pred, label)\n",
        "            loss.backward()\n",
        "            opt.step()\n",
        "            total_loss += loss.item() * batch.num_graphs\n",
        "        total_loss /= len(loader.dataset)\n",
        "        losses.append(total_loss)\n",
        "        \n",
        "        if epoch % 10 == 0:\n",
        "          test_acc = test(test_loader, model)\n",
        "          test_accs.append(test_acc)\n",
        "          if test_acc > best_acc:\n",
        "            best_acc = test_acc\n",
        "            best_model = copy.deepcopy(model)\n",
        "        else:\n",
        "          test_accs.append(test_accs[-1])\n",
        "    \n",
        "    return test_accs, losses, best_model, best_acc, test_loader\n",
        "\n",
        "def test(loader, test_model, is_validation=False, save_model_preds=False, model_type=None):\n",
        "    test_model.eval()\n",
        "\n",
        "    correct = 0\n",
        "    # Note that Cora is only one graph!\n",
        "    for data in loader:\n",
        "        with torch.no_grad():\n",
        "            # max(dim=1) returns values, indices tuple; only need indices\n",
        "            pred = test_model(data).max(dim=1)[1]\n",
        "            label = data.y\n",
        "\n",
        "        mask = data.val_mask if is_validation else data.test_mask\n",
        "        # node classification: only evaluate on nodes in test set\n",
        "        pred = pred[mask]\n",
        "        label = label[mask]\n",
        "\n",
        "        if save_model_preds:\n",
        "          print (\"Saving Model Predictions for Model Type\", model_type)\n",
        "\n",
        "          data = {}\n",
        "          data['pred'] = pred.view(-1).cpu().detach().numpy()\n",
        "          data['label'] = label.view(-1).cpu().detach().numpy()\n",
        "\n",
        "          df = pd.DataFrame(data=data)\n",
        "          # Save locally as csv\n",
        "          df.to_csv('CORA-Node-' + model_type + '.csv', sep=',', index=False)\n",
        "            \n",
        "        correct += pred.eq(label).sum().item()\n",
        "\n",
        "    total = 0\n",
        "    for data in loader.dataset:\n",
        "        total += torch.sum(data.val_mask if is_validation else data.test_mask).item()\n",
        "\n",
        "    return correct / total\n",
        "  \n",
        "class objectview(object):\n",
        "    def __init__(self, d):\n",
        "        self.__dict__ = d\n"
      ]
    },
    {
      "cell_type": "markdown",
      "metadata": {
        "id": "L7-h7jIsCns4"
      },
      "source": [
        "## Let's Start the Training!\n",
        "\n",
        "We will be working on the CORA dataset on node-level classification.\n",
        "\n",
        "This part is implemented for you. **For grading purposes, please do not modify the default parameters.** However, feel free to play with different configurations just for fun!\n",
        "\n",
        "**Submit your best accuracy and loss on Gradescope.**"
      ]
    },
    {
      "cell_type": "code",
      "execution_count": 18,
      "metadata": {
        "colab": {
          "base_uri": "https://localhost:8080/",
          "height": 723
        },
        "id": "qe9B45l9Cpz2",
        "outputId": "f2dfdf11-af74-41d1-9359-3cf9f7fbf554"
      },
      "outputs": [
        {
          "name": "stdout",
          "output_type": "stream",
          "text": [
            "Node task. test set size: 1000\n"
          ]
        },
        {
          "name": "stderr",
          "output_type": "stream",
          "text": [
            "Training: 100%|██████████| 500/500 [24:21<00:00,  2.92s/Epochs]\n"
          ]
        },
        {
          "name": "stdout",
          "output_type": "stream",
          "text": [
            "Maximum test set accuracy: 0.798\n",
            "Minimum loss: 0.11615987867116928\n",
            "Saving Model Predictions for Model Type GraphSage\n"
          ]
        },
        {
          "data": {
            "image/png": "[encoded data removed]",
            "image/svg+xml": "<?xml version=\"1.0\" encoding=\"utf-8\" standalone=\"no\"?>\n<!DOCTYPE svg PUBLIC \"-//W3C//DTD SVG 1.1//EN\"\n  \"http://www.w3.org/Graphics/SVG/1.1/DTD/svg11.dtd\">\n<svg height=\"263.63625pt\" version=\"1.1\" viewBox=\"0 0 378.465625 263.63625\" width=\"378.465625pt\" xmlns=\"http://www.w3.org/2000/svg\" xmlns:xlink=\"http://www.w3.org/1999/xlink\">\n <metadata>\n  <rdf:RDF xmlns:cc=\"http://creativecommons.org/ns#\" xmlns:dc=\"http://purl.org/dc/elements/1.1/\" xmlns:rdf=\"http://www.w3.org/1999/02/22-rdf-syntax-ns#\">\n   <cc:Work>\n    <dc:type rdf:resource=\"http://purl.org/dc/dcmitype/StillImage\"/>\n    <dc:date>2022-01-08T17:00:12.273091</dc:date>\n    <dc:format>image/svg+xml</dc:format>\n    <dc:creator>\n     <cc:Agent>\n      <dc:title>Matplotlib v3.4.3, https://matplotlib.org/</dc:title>\n     </cc:Agent>\n    </dc:creator>\n   </cc:Work>\n  </rdf:RDF>\n </metadata>\n <defs>\n  <style type=\"text/css\">*{stroke-linecap:butt;stroke-linejoin:round;}</style>\n </defs>\n <g id=\"figure_1\">\n  <g id=\"patch_1\">\n   <path d=\"M 0 263.63625 \nL 378.465625 263.63625 \nL 378.465625 0 \nL 0 0 \nz\n\" style=\"fill:none;\"/>\n  </g>\n  <g id=\"axes_1\">\n   <g id=\"patch_2\">\n    <path d=\"M 36.465625 239.758125 \nL 371.265625 239.758125 \nL 371.265625 22.318125 \nL 36.465625 22.318125 \nz\n\" style=\"fill:#ffffff;\"/>\n   </g>\n   <g id=\"matplotlib.axis_1\">\n    <g id=\"xtick_1\">\n     <g id=\"line2d_1\">\n      <defs>\n       <path d=\"M 0 0 \nL 0 3.5 \n\" id=\"m21f38f7dc3\" style=\"stroke:#000000;stroke-width:0.8;\"/>\n      </defs>\n      <g>\n       <use style=\"stroke:#000000;stroke-width:0.8;\" x=\"51.683807\" xlink:href=\"#m21f38f7dc3\" y=\"239.758125\"/>\n      </g>\n     </g>\n     <g id=\"text_1\">\n      <!-- 0 -->\n      <g transform=\"translate(48.502557 254.356563)scale(0.1 -0.1)\">\n       <defs>\n        <path d=\"M 2034 4250 \nQ 1547 4250 1301 3770 \nQ 1056 3291 1056 2328 \nQ 1056 1369 1301 889 \nQ 1547 409 2034 409 \nQ 2525 409 2770 889 \nQ 3016 1369 3016 2328 \nQ 3016 3291 2770 3770 \nQ 2525 4250 2034 4250 \nz\nM 2034 4750 \nQ 2819 4750 3233 4129 \nQ 3647 3509 3647 2328 \nQ 3647 1150 3233 529 \nQ 2819 -91 2034 -91 \nQ 1250 -91 836 529 \nQ 422 1150 422 2328 \nQ 422 3509 836 4129 \nQ 1250 4750 2034 4750 \nz\n\" id=\"DejaVuSans-30\" transform=\"scale(0.015625)\"/>\n       </defs>\n       <use xlink:href=\"#DejaVuSans-30\"/>\n      </g>\n     </g>\n    </g>\n    <g id=\"xtick_2\">\n     <g id=\"line2d_2\">\n      <g>\n       <use style=\"stroke:#000000;stroke-width:0.8;\" x=\"112.678524\" xlink:href=\"#m21f38f7dc3\" y=\"239.758125\"/>\n      </g>\n     </g>\n     <g id=\"text_2\">\n      <!-- 100 -->\n      <g transform=\"translate(103.134774 254.356563)scale(0.1 -0.1)\">\n       <defs>\n        <path d=\"M 794 531 \nL 1825 531 \nL 1825 4091 \nL 703 3866 \nL 703 4441 \nL 1819 4666 \nL 2450 4666 \nL 2450 531 \nL 3481 531 \nL 3481 0 \nL 794 0 \nL 794 531 \nz\n\" id=\"DejaVuSans-31\" transform=\"scale(0.015625)\"/>\n       </defs>\n       <use xlink:href=\"#DejaVuSans-31\"/>\n       <use x=\"63.623047\" xlink:href=\"#DejaVuSans-30\"/>\n       <use x=\"127.246094\" xlink:href=\"#DejaVuSans-30\"/>\n      </g>\n     </g>\n    </g>\n    <g id=\"xtick_3\">\n     <g id=\"line2d_3\">\n      <g>\n       <use style=\"stroke:#000000;stroke-width:0.8;\" x=\"173.67324\" xlink:href=\"#m21f38f7dc3\" y=\"239.758125\"/>\n      </g>\n     </g>\n     <g id=\"text_3\">\n      <!-- 200 -->\n      <g transform=\"translate(164.12949 254.356563)scale(0.1 -0.1)\">\n       <defs>\n        <path d=\"M 1228 531 \nL 3431 531 \nL 3431 0 \nL 469 0 \nL 469 531 \nQ 828 903 1448 1529 \nQ 2069 2156 2228 2338 \nQ 2531 2678 2651 2914 \nQ 2772 3150 2772 3378 \nQ 2772 3750 2511 3984 \nQ 2250 4219 1831 4219 \nQ 1534 4219 1204 4116 \nQ 875 4013 500 3803 \nL 500 4441 \nQ 881 4594 1212 4672 \nQ 1544 4750 1819 4750 \nQ 2544 4750 2975 4387 \nQ 3406 4025 3406 3419 \nQ 3406 3131 3298 2873 \nQ 3191 2616 2906 2266 \nQ 2828 2175 2409 1742 \nQ 1991 1309 1228 531 \nz\n\" id=\"DejaVuSans-32\" transform=\"scale(0.015625)\"/>\n       </defs>\n       <use xlink:href=\"#DejaVuSans-32\"/>\n       <use x=\"63.623047\" xlink:href=\"#DejaVuSans-30\"/>\n       <use x=\"127.246094\" xlink:href=\"#DejaVuSans-30\"/>\n      </g>\n     </g>\n    </g>\n    <g id=\"xtick_4\">\n     <g id=\"line2d_4\">\n      <g>\n       <use style=\"stroke:#000000;stroke-width:0.8;\" x=\"234.667957\" xlink:href=\"#m21f38f7dc3\" y=\"239.758125\"/>\n      </g>\n     </g>\n     <g id=\"text_4\">\n      <!-- 300 -->\n      <g transform=\"translate(225.124207 254.356563)scale(0.1 -0.1)\">\n       <defs>\n        <path d=\"M 2597 2516 \nQ 3050 2419 3304 2112 \nQ 3559 1806 3559 1356 \nQ 3559 666 3084 287 \nQ 2609 -91 1734 -91 \nQ 1441 -91 1130 -33 \nQ 819 25 488 141 \nL 488 750 \nQ 750 597 1062 519 \nQ 1375 441 1716 441 \nQ 2309 441 2620 675 \nQ 2931 909 2931 1356 \nQ 2931 1769 2642 2001 \nQ 2353 2234 1838 2234 \nL 1294 2234 \nL 1294 2753 \nL 1863 2753 \nQ 2328 2753 2575 2939 \nQ 2822 3125 2822 3475 \nQ 2822 3834 2567 4026 \nQ 2313 4219 1838 4219 \nQ 1578 4219 1281 4162 \nQ 984 4106 628 3988 \nL 628 4550 \nQ 988 4650 1302 4700 \nQ 1616 4750 1894 4750 \nQ 2613 4750 3031 4423 \nQ 3450 4097 3450 3541 \nQ 3450 3153 3228 2886 \nQ 3006 2619 2597 2516 \nz\n\" id=\"DejaVuSans-33\" transform=\"scale(0.015625)\"/>\n       </defs>\n       <use xlink:href=\"#DejaVuSans-33\"/>\n       <use x=\"63.623047\" xlink:href=\"#DejaVuSans-30\"/>\n       <use x=\"127.246094\" xlink:href=\"#DejaVuSans-30\"/>\n      </g>\n     </g>\n    </g>\n    <g id=\"xtick_5\">\n     <g id=\"line2d_5\">\n      <g>\n       <use style=\"stroke:#000000;stroke-width:0.8;\" x=\"295.662674\" xlink:href=\"#m21f38f7dc3\" y=\"239.758125\"/>\n      </g>\n     </g>\n     <g id=\"text_5\">\n      <!-- 400 -->\n      <g transform=\"translate(286.118924 254.356563)scale(0.1 -0.1)\">\n       <defs>\n        <path d=\"M 2419 4116 \nL 825 1625 \nL 2419 1625 \nL 2419 4116 \nz\nM 2253 4666 \nL 3047 4666 \nL 3047 1625 \nL 3713 1625 \nL 3713 1100 \nL 3047 1100 \nL 3047 0 \nL 2419 0 \nL 2419 1100 \nL 313 1100 \nL 313 1709 \nL 2253 4666 \nz\n\" id=\"DejaVuSans-34\" transform=\"scale(0.015625)\"/>\n       </defs>\n       <use xlink:href=\"#DejaVuSans-34\"/>\n       <use x=\"63.623047\" xlink:href=\"#DejaVuSans-30\"/>\n       <use x=\"127.246094\" xlink:href=\"#DejaVuSans-30\"/>\n      </g>\n     </g>\n    </g>\n    <g id=\"xtick_6\">\n     <g id=\"line2d_6\">\n      <g>\n       <use style=\"stroke:#000000;stroke-width:0.8;\" x=\"356.65739\" xlink:href=\"#m21f38f7dc3\" y=\"239.758125\"/>\n      </g>\n     </g>\n     <g id=\"text_6\">\n      <!-- 500 -->\n      <g transform=\"translate(347.11364 254.356563)scale(0.1 -0.1)\">\n       <defs>\n        <path d=\"M 691 4666 \nL 3169 4666 \nL 3169 4134 \nL 1269 4134 \nL 1269 2991 \nQ 1406 3038 1543 3061 \nQ 1681 3084 1819 3084 \nQ 2600 3084 3056 2656 \nQ 3513 2228 3513 1497 \nQ 3513 744 3044 326 \nQ 2575 -91 1722 -91 \nQ 1428 -91 1123 -41 \nQ 819 9 494 109 \nL 494 744 \nQ 775 591 1075 516 \nQ 1375 441 1709 441 \nQ 2250 441 2565 725 \nQ 2881 1009 2881 1497 \nQ 2881 1984 2565 2268 \nQ 2250 2553 1709 2553 \nQ 1456 2553 1204 2497 \nQ 953 2441 691 2322 \nL 691 4666 \nz\n\" id=\"DejaVuSans-35\" transform=\"scale(0.015625)\"/>\n       </defs>\n       <use xlink:href=\"#DejaVuSans-35\"/>\n       <use x=\"63.623047\" xlink:href=\"#DejaVuSans-30\"/>\n       <use x=\"127.246094\" xlink:href=\"#DejaVuSans-30\"/>\n      </g>\n     </g>\n    </g>\n   </g>\n   <g id=\"matplotlib.axis_2\">\n    <g id=\"ytick_1\">\n     <g id=\"line2d_7\">\n      <defs>\n       <path d=\"M 0 0 \nL -3.5 0 \n\" id=\"ma8de4fa058\" style=\"stroke:#000000;stroke-width:0.8;\"/>\n      </defs>\n      <g>\n       <use style=\"stroke:#000000;stroke-width:0.8;\" x=\"36.465625\" xlink:href=\"#ma8de4fa058\" y=\"215.429588\"/>\n      </g>\n     </g>\n     <g id=\"text_7\">\n      <!-- 0.25 -->\n      <g transform=\"translate(7.2 219.228806)scale(0.1 -0.1)\">\n       <defs>\n        <path d=\"M 684 794 \nL 1344 794 \nL 1344 0 \nL 684 0 \nL 684 794 \nz\n\" id=\"DejaVuSans-2e\" transform=\"scale(0.015625)\"/>\n       </defs>\n       <use xlink:href=\"#DejaVuSans-30\"/>\n       <use x=\"63.623047\" xlink:href=\"#DejaVuSans-2e\"/>\n       <use x=\"95.410156\" xlink:href=\"#DejaVuSans-32\"/>\n       <use x=\"159.033203\" xlink:href=\"#DejaVuSans-35\"/>\n      </g>\n     </g>\n    </g>\n    <g id=\"ytick_2\">\n     <g id=\"line2d_8\">\n      <g>\n       <use style=\"stroke:#000000;stroke-width:0.8;\" x=\"36.465625\" xlink:href=\"#ma8de4fa058\" y=\"188.447953\"/>\n      </g>\n     </g>\n     <g id=\"text_8\">\n      <!-- 0.50 -->\n      <g transform=\"translate(7.2 192.247172)scale(0.1 -0.1)\">\n       <use xlink:href=\"#DejaVuSans-30\"/>\n       <use x=\"63.623047\" xlink:href=\"#DejaVuSans-2e\"/>\n       <use x=\"95.410156\" xlink:href=\"#DejaVuSans-35\"/>\n       <use x=\"159.033203\" xlink:href=\"#DejaVuSans-30\"/>\n      </g>\n     </g>\n    </g>\n    <g id=\"ytick_3\">\n     <g id=\"line2d_9\">\n      <g>\n       <use style=\"stroke:#000000;stroke-width:0.8;\" x=\"36.465625\" xlink:href=\"#ma8de4fa058\" y=\"161.466318\"/>\n      </g>\n     </g>\n     <g id=\"text_9\">\n      <!-- 0.75 -->\n      <g transform=\"translate(7.2 165.265537)scale(0.1 -0.1)\">\n       <defs>\n        <path d=\"M 525 4666 \nL 3525 4666 \nL 3525 4397 \nL 1831 0 \nL 1172 0 \nL 2766 4134 \nL 525 4134 \nL 525 4666 \nz\n\" id=\"DejaVuSans-37\" transform=\"scale(0.015625)\"/>\n       </defs>\n       <use xlink:href=\"#DejaVuSans-30\"/>\n       <use x=\"63.623047\" xlink:href=\"#DejaVuSans-2e\"/>\n       <use x=\"95.410156\" xlink:href=\"#DejaVuSans-37\"/>\n       <use x=\"159.033203\" xlink:href=\"#DejaVuSans-35\"/>\n      </g>\n     </g>\n    </g>\n    <g id=\"ytick_4\">\n     <g id=\"line2d_10\">\n      <g>\n       <use style=\"stroke:#000000;stroke-width:0.8;\" x=\"36.465625\" xlink:href=\"#ma8de4fa058\" y=\"134.484684\"/>\n      </g>\n     </g>\n     <g id=\"text_10\">\n      <!-- 1.00 -->\n      <g transform=\"translate(7.2 138.283902)scale(0.1 -0.1)\">\n       <use xlink:href=\"#DejaVuSans-31\"/>\n       <use x=\"63.623047\" xlink:href=\"#DejaVuSans-2e\"/>\n       <use x=\"95.410156\" xlink:href=\"#DejaVuSans-30\"/>\n       <use x=\"159.033203\" xlink:href=\"#DejaVuSans-30\"/>\n      </g>\n     </g>\n    </g>\n    <g id=\"ytick_5\">\n     <g id=\"line2d_11\">\n      <g>\n       <use style=\"stroke:#000000;stroke-width:0.8;\" x=\"36.465625\" xlink:href=\"#ma8de4fa058\" y=\"107.503049\"/>\n      </g>\n     </g>\n     <g id=\"text_11\">\n      <!-- 1.25 -->\n      <g transform=\"translate(7.2 111.302268)scale(0.1 -0.1)\">\n       <use xlink:href=\"#DejaVuSans-31\"/>\n       <use x=\"63.623047\" xlink:href=\"#DejaVuSans-2e\"/>\n       <use x=\"95.410156\" xlink:href=\"#DejaVuSans-32\"/>\n       <use x=\"159.033203\" xlink:href=\"#DejaVuSans-35\"/>\n      </g>\n     </g>\n    </g>\n    <g id=\"ytick_6\">\n     <g id=\"line2d_12\">\n      <g>\n       <use style=\"stroke:#000000;stroke-width:0.8;\" x=\"36.465625\" xlink:href=\"#ma8de4fa058\" y=\"80.521414\"/>\n      </g>\n     </g>\n     <g id=\"text_12\">\n      <!-- 1.50 -->\n      <g transform=\"translate(7.2 84.320633)scale(0.1 -0.1)\">\n       <use xlink:href=\"#DejaVuSans-31\"/>\n       <use x=\"63.623047\" xlink:href=\"#DejaVuSans-2e\"/>\n       <use x=\"95.410156\" xlink:href=\"#DejaVuSans-35\"/>\n       <use x=\"159.033203\" xlink:href=\"#DejaVuSans-30\"/>\n      </g>\n     </g>\n    </g>\n    <g id=\"ytick_7\">\n     <g id=\"line2d_13\">\n      <g>\n       <use style=\"stroke:#000000;stroke-width:0.8;\" x=\"36.465625\" xlink:href=\"#ma8de4fa058\" y=\"53.53978\"/>\n      </g>\n     </g>\n     <g id=\"text_13\">\n      <!-- 1.75 -->\n      <g transform=\"translate(7.2 57.338999)scale(0.1 -0.1)\">\n       <use xlink:href=\"#DejaVuSans-31\"/>\n       <use x=\"63.623047\" xlink:href=\"#DejaVuSans-2e\"/>\n       <use x=\"95.410156\" xlink:href=\"#DejaVuSans-37\"/>\n       <use x=\"159.033203\" xlink:href=\"#DejaVuSans-35\"/>\n      </g>\n     </g>\n    </g>\n    <g id=\"ytick_8\">\n     <g id=\"line2d_14\">\n      <g>\n       <use style=\"stroke:#000000;stroke-width:0.8;\" x=\"36.465625\" xlink:href=\"#ma8de4fa058\" y=\"26.558145\"/>\n      </g>\n     </g>\n     <g id=\"text_14\">\n      <!-- 2.00 -->\n      <g transform=\"translate(7.2 30.357364)scale(0.1 -0.1)\">\n       <use xlink:href=\"#DejaVuSans-32\"/>\n       <use x=\"63.623047\" xlink:href=\"#DejaVuSans-2e\"/>\n       <use x=\"95.410156\" xlink:href=\"#DejaVuSans-30\"/>\n       <use x=\"159.033203\" xlink:href=\"#DejaVuSans-30\"/>\n      </g>\n     </g>\n    </g>\n   </g>\n   <g id=\"line2d_15\">\n    <path clip-path=\"url(#p4fd4216589)\" d=\"M 51.683807 32.201761 \nL 52.293754 34.521216 \nL 52.903701 35.985414 \nL 53.513648 38.568657 \nL 54.123595 44.367538 \nL 54.733543 47.965613 \nL 55.34349 49.029709 \nL 57.173331 67.66469 \nL 57.783278 70.631747 \nL 59.003173 85.6228 \nL 59.61312 89.952311 \nL 60.223067 101.01928 \nL 60.833014 106.644395 \nL 61.442961 115.333537 \nL 62.052909 119.627063 \nL 62.662856 124.929168 \nL 63.272803 141.886662 \nL 63.88275 136.295609 \nL 64.492697 150.034654 \nL 65.102644 153.710413 \nL 65.712592 159.744791 \nL 66.322539 168.258398 \nL 66.932486 169.837539 \nL 67.542433 175.628501 \nL 68.15238 177.2321 \nL 68.762327 184.337289 \nL 69.372275 183.520784 \nL 69.982222 186.914756 \nL 70.592169 189.570289 \nL 71.202116 194.095654 \nL 71.812063 201.30019 \nL 72.42201 197.838325 \nL 73.031958 189.444902 \nL 73.641905 203.432836 \nL 74.251852 199.516312 \nL 74.861799 203.605032 \nL 75.471746 210.056128 \nL 76.081694 214.904468 \nL 76.691641 204.216556 \nL 77.301588 207.655982 \nL 77.911535 213.921199 \nL 78.521482 211.354768 \nL 79.131429 213.271676 \nL 79.741377 202.858614 \nL 80.351324 219.897206 \nL 80.961271 216.220073 \nL 81.571218 219.288782 \nL 82.181165 213.102134 \nL 82.791112 219.677898 \nL 83.40106 217.763282 \nL 84.011007 220.711119 \nL 84.620954 208.634353 \nL 85.230901 218.598253 \nL 85.840848 207.770794 \nL 86.450795 218.88853 \nL 87.060743 218.590625 \nL 87.67069 219.204216 \nL 88.280637 221.045346 \nL 88.890584 213.638125 \nL 89.500531 219.844292 \nL 90.110478 218.596025 \nL 90.720426 222.329623 \nL 91.330373 206.009009 \nL 91.94032 219.532744 \nL 92.550267 216.213073 \nL 93.160214 222.464674 \nL 93.770161 223.419756 \nL 94.380109 209.983317 \nL 94.990056 212.694322 \nL 95.600003 206.959885 \nL 96.20995 220.000057 \nL 96.819897 220.609927 \nL 97.429844 222.001814 \nL 98.039792 214.738023 \nL 98.649739 221.628463 \nL 99.259686 218.826369 \nL 99.869633 219.875535 \nL 100.47958 216.011376 \nL 101.699475 224.785473 \nL 102.309422 219.460349 \nL 102.919369 217.193212 \nL 103.529316 213.06224 \nL 104.139263 222.473191 \nL 104.74921 220.534392 \nL 105.359158 216.399047 \nL 105.969105 223.525251 \nL 106.579052 222.586218 \nL 107.188999 224.475824 \nL 107.798946 211.42253 \nL 108.408893 217.029695 \nL 109.018841 216.717052 \nL 109.628788 222.758628 \nL 110.238735 222.106987 \nL 110.848682 219.765082 \nL 111.458629 219.852652 \nL 112.068576 217.322602 \nL 112.678524 222.411776 \nL 113.288471 221.650631 \nL 113.898418 218.395926 \nL 114.508365 226.459926 \nL 115.118312 219.524222 \nL 115.728259 223.42293 \nL 116.338207 229.874489 \nL 116.948154 218.985513 \nL 117.558101 221.19399 \nL 118.168048 221.185055 \nL 118.777995 215.138064 \nL 119.387942 220.510254 \nL 119.99789 220.805482 \nL 120.607837 225.55289 \nL 121.217784 221.427391 \nL 121.827731 220.294819 \nL 122.437678 220.572102 \nL 123.047625 221.412161 \nL 123.657573 225.63151 \nL 124.26752 216.959435 \nL 124.877467 216.660642 \nL 125.487414 224.895467 \nL 126.097361 220.180306 \nL 126.707308 217.028906 \nL 127.317256 219.416387 \nL 127.927203 218.539247 \nL 128.53715 221.798846 \nL 129.147097 221.108418 \nL 129.757044 220.820054 \nL 130.366991 217.215235 \nL 130.976939 219.628014 \nL 131.586886 217.280964 \nL 132.196833 221.52984 \nL 132.80678 207.208647 \nL 133.416727 217.315849 \nL 134.026674 223.108087 \nL 134.636622 214.985481 \nL 135.246569 221.238252 \nL 135.856516 223.673489 \nL 136.466463 225.157137 \nL 137.07641 217.082017 \nL 137.686357 219.568366 \nL 138.296305 214.665511 \nL 138.906252 217.545201 \nL 139.516199 221.562886 \nL 140.126146 224.052411 \nL 140.736093 221.37554 \nL 141.34604 223.625963 \nL 141.955988 225.424763 \nL 142.565935 222.201193 \nL 143.175882 222.04679 \nL 143.785829 220.385468 \nL 144.395776 223.650233 \nL 145.005723 206.313608 \nL 145.615671 222.582657 \nL 146.225618 221.423399 \nL 146.835565 211.136084 \nL 147.445512 220.110573 \nL 148.665406 215.856417 \nL 149.275354 223.764348 \nL 149.885301 218.123993 \nL 150.495248 213.885635 \nL 151.105195 221.436796 \nL 151.715142 200.706441 \nL 152.325089 222.010416 \nL 152.935037 223.884906 \nL 153.544984 223.962009 \nL 154.154931 214.758708 \nL 154.764878 218.886565 \nL 155.374825 224.939424 \nL 155.984772 219.518932 \nL 156.59472 221.736068 \nL 157.204667 227.24657 \nL 157.814614 221.961676 \nL 158.424561 226.260883 \nL 159.034508 223.328534 \nL 159.644455 223.015734 \nL 160.254403 213.823776 \nL 160.86435 226.972942 \nL 161.474297 221.528959 \nL 162.084244 220.979269 \nL 162.694191 214.719393 \nL 163.304138 221.203834 \nL 163.914086 216.035482 \nL 164.524033 226.689411 \nL 165.13398 225.545845 \nL 165.743927 222.745143 \nL 166.353874 221.241573 \nL 166.963821 214.65131 \nL 167.573769 226.953428 \nL 168.183716 203.062219 \nL 168.793663 224.595493 \nL 169.40361 220.922357 \nL 170.013557 227.262988 \nL 170.623504 216.108467 \nL 171.233452 226.390278 \nL 171.843399 223.608919 \nL 172.453346 221.616733 \nL 173.063293 225.145887 \nL 173.67324 219.072279 \nL 174.283187 211.879106 \nL 174.893135 209.263094 \nL 175.503082 217.680032 \nL 176.113029 211.879106 \nL 176.722976 220.633642 \nL 177.332923 223.080134 \nL 177.94287 218.953901 \nL 178.552818 218.852522 \nL 179.162765 219.333055 \nL 179.772712 216.925464 \nL 180.992606 224.219283 \nL 181.602553 215.860339 \nL 182.212501 223.089724 \nL 182.822448 220.905572 \nL 183.432395 221.102157 \nL 184.042342 216.723236 \nL 184.652289 223.310832 \nL 185.262236 222.777542 \nL 185.872184 219.000743 \nL 186.482131 222.52588 \nL 187.092078 220.290217 \nL 187.702025 220.948929 \nL 188.311972 221.350942 \nL 188.921919 214.561966 \nL 189.531867 206.297893 \nL 190.141814 222.60491 \nL 190.751761 226.164568 \nL 191.361708 226.157891 \nL 191.971655 212.103368 \nL 192.581602 227.612868 \nL 193.19155 219.795751 \nL 193.801497 223.504479 \nL 194.411444 219.028811 \nL 195.021391 221.196481 \nL 195.631338 222.339388 \nL 196.241285 222.490449 \nL 196.851233 223.18561 \nL 197.46118 219.628911 \nL 198.071127 224.93056 \nL 198.681074 218.235204 \nL 199.291021 216.195352 \nL 199.900968 217.909479 \nL 200.510916 215.431349 \nL 201.120863 212.426554 \nL 201.73081 225.850363 \nL 202.340757 220.734946 \nL 202.950704 221.605909 \nL 203.560651 219.236159 \nL 204.170599 220.859 \nL 204.780546 220.23511 \nL 205.390493 215.104719 \nL 206.00044 215.564549 \nL 206.610387 223.182259 \nL 207.220334 222.334803 \nL 207.830282 215.276191 \nL 208.440229 226.837725 \nL 209.050176 220.219817 \nL 209.660123 221.533336 \nL 210.27007 226.307998 \nL 210.880017 222.181843 \nL 212.099912 220.276724 \nL 213.319806 223.341589 \nL 213.929753 222.830731 \nL 214.5397 221.472219 \nL 215.149648 217.839893 \nL 215.759595 221.251401 \nL 216.369542 222.718885 \nL 216.979489 220.050929 \nL 217.589436 223.471766 \nL 218.199383 219.969771 \nL 218.809331 223.762632 \nL 219.419278 226.804092 \nL 220.029225 220.138365 \nL 220.639172 221.994389 \nL 221.249119 225.86972 \nL 221.859066 216.103616 \nL 222.469014 215.985116 \nL 223.078961 218.39113 \nL 223.688908 219.546433 \nL 224.298855 212.189755 \nL 224.908802 222.803072 \nL 225.518749 223.078428 \nL 226.128697 219.31778 \nL 226.738644 221.767963 \nL 227.348591 219.852404 \nL 227.958538 227.861131 \nL 229.178432 221.537474 \nL 229.78838 222.25476 \nL 230.398327 219.913967 \nL 231.008274 224.044373 \nL 231.618221 222.368992 \nL 232.228168 217.866427 \nL 232.838115 221.633754 \nL 233.448063 216.54914 \nL 234.05801 222.491229 \nL 234.667957 221.232115 \nL 235.277904 215.903339 \nL 235.887851 221.390074 \nL 236.497798 216.511033 \nL 237.107746 216.129834 \nL 237.717693 218.898776 \nL 238.32764 217.261095 \nL 238.937587 219.207146 \nL 239.547534 223.795191 \nL 240.157481 214.719422 \nL 240.767429 221.468727 \nL 241.377376 223.238579 \nL 241.987323 223.058788 \nL 242.59727 218.863123 \nL 243.207217 223.658358 \nL 243.817164 222.293748 \nL 244.427112 221.887908 \nL 245.037059 227.466024 \nL 246.256953 217.454722 \nL 246.8669 223.918109 \nL 247.476847 221.038612 \nL 248.086795 220.81836 \nL 248.696742 223.448006 \nL 249.306689 209.193274 \nL 249.916636 210.170377 \nL 250.526583 216.223114 \nL 251.13653 216.151201 \nL 251.746478 221.900671 \nL 252.356425 225.624983 \nL 252.966372 225.901177 \nL 253.576319 215.588289 \nL 254.186266 218.268803 \nL 254.796213 221.849994 \nL 255.406161 224.553245 \nL 256.016108 221.379773 \nL 256.626055 216.301871 \nL 257.236002 213.566372 \nL 257.845949 218.647323 \nL 258.455896 218.785531 \nL 259.065844 219.980142 \nL 259.675791 221.551188 \nL 260.285738 223.49325 \nL 260.895685 212.750169 \nL 261.505632 221.177473 \nL 262.115579 218.919058 \nL 262.725527 224.238842 \nL 263.335474 221.360764 \nL 263.945421 215.474052 \nL 264.555368 217.229682 \nL 265.165315 220.314999 \nL 265.775262 214.397155 \nL 266.38521 222.447985 \nL 266.995157 220.503971 \nL 267.605104 214.046078 \nL 268.215051 220.715392 \nL 268.824998 218.742282 \nL 269.434945 220.355684 \nL 270.044893 218.533093 \nL 270.65484 222.671375 \nL 271.264787 224.869121 \nL 271.874734 220.743209 \nL 272.484681 211.791306 \nL 273.094628 225.048597 \nL 273.704576 223.071849 \nL 274.314523 221.941438 \nL 275.534417 215.585089 \nL 276.144364 216.22759 \nL 276.754311 222.974067 \nL 277.364259 221.547481 \nL 277.974206 228.590221 \nL 278.584153 220.10673 \nL 279.1941 218.175669 \nL 279.804047 217.155279 \nL 280.413994 222.990413 \nL 281.023942 223.824777 \nL 281.633889 222.921675 \nL 282.243836 223.943709 \nL 282.853783 224.389451 \nL 283.46373 226.867453 \nL 284.073677 220.653735 \nL 285.293572 223.231702 \nL 285.903519 219.797954 \nL 286.513466 224.953873 \nL 287.123413 219.536062 \nL 287.73336 227.798272 \nL 288.343308 223.686035 \nL 288.953255 220.888114 \nL 289.563202 219.029147 \nL 290.173149 225.645214 \nL 290.783096 222.981199 \nL 291.393043 214.898264 \nL 292.002991 224.453195 \nL 292.612938 224.043284 \nL 293.222885 222.704976 \nL 293.832832 212.019399 \nL 294.442779 227.872664 \nL 295.052726 222.005789 \nL 295.662674 219.710857 \nL 296.272621 220.790721 \nL 296.882568 224.839727 \nL 297.492515 214.032283 \nL 298.102462 227.700406 \nL 298.712409 224.19715 \nL 299.322357 218.442733 \nL 299.932304 219.807727 \nL 300.542251 220.165198 \nL 301.152198 225.392088 \nL 301.762145 222.648332 \nL 302.372092 221.34686 \nL 302.98204 226.158249 \nL 303.591987 223.427744 \nL 304.201934 219.73666 \nL 304.811881 223.169738 \nL 306.031775 226.495468 \nL 306.641723 225.328698 \nL 307.25167 220.031641 \nL 307.861617 226.546208 \nL 308.471564 211.030777 \nL 309.081511 221.861779 \nL 309.691458 225.824467 \nL 310.301406 223.244048 \nL 310.911353 223.610821 \nL 311.5213 213.613866 \nL 312.741194 226.244775 \nL 313.351141 226.479183 \nL 313.961089 221.599924 \nL 314.571036 217.971729 \nL 315.180983 224.272044 \nL 315.79093 221.459747 \nL 316.400877 219.175955 \nL 317.010824 223.015345 \nL 317.620772 222.747859 \nL 318.840666 227.078005 \nL 319.450613 218.250881 \nL 320.06056 223.803666 \nL 320.670507 222.542752 \nL 321.280455 224.40947 \nL 321.890402 213.693995 \nL 322.500349 219.658958 \nL 323.110296 223.704419 \nL 323.720243 211.028606 \nL 324.33019 220.512631 \nL 324.940138 224.261716 \nL 325.550085 223.312871 \nL 326.160032 220.446034 \nL 326.769979 210.936934 \nL 327.379926 219.091379 \nL 327.989873 224.424953 \nL 328.599821 221.035767 \nL 329.209768 218.917629 \nL 329.819715 220.208915 \nL 330.429662 222.576623 \nL 331.039609 216.072716 \nL 331.649556 221.819084 \nL 332.259504 221.302483 \nL 332.869451 226.316938 \nL 333.479398 222.555139 \nL 334.089345 219.562921 \nL 334.699292 222.661578 \nL 335.30924 223.834174 \nL 335.919187 224.252822 \nL 336.529134 220.141009 \nL 337.139081 221.633166 \nL 337.749028 215.054082 \nL 338.358975 222.103959 \nL 338.968923 216.107846 \nL 339.57887 214.873243 \nL 340.188817 227.271193 \nL 340.798764 222.982754 \nL 341.408711 221.747233 \nL 342.018658 224.456434 \nL 342.628606 223.56546 \nL 343.238553 220.751008 \nL 343.8485 222.692599 \nL 344.458447 227.138112 \nL 345.068394 221.648876 \nL 345.678341 221.784111 \nL 346.288289 207.063967 \nL 346.898236 225.321287 \nL 347.508183 217.853888 \nL 348.11813 223.364704 \nL 348.728077 213.960691 \nL 349.338024 219.909528 \nL 349.947972 217.791192 \nL 351.167866 227.843017 \nL 351.777813 221.007902 \nL 352.38776 215.879591 \nL 352.997707 222.213502 \nL 353.607655 219.11728 \nL 354.217602 225.184569 \nL 354.827549 223.105253 \nL 355.437496 211.026734 \nL 356.047443 216.153401 \nL 356.047443 216.153401 \n\" style=\"fill:none;stroke:#1f77b4;stroke-linecap:square;stroke-width:1.5;\"/>\n   </g>\n   <g id=\"line2d_16\">\n    <path clip-path=\"url(#p4fd4216589)\" d=\"M 51.683807 229.244185 \nL 57.173331 229.244185 \nL 57.783278 167.294351 \nL 63.272803 167.294351 \nL 63.88275 159.955347 \nL 69.372275 159.955347 \nL 69.982222 156.285844 \nL 75.471746 156.285844 \nL 76.081694 158.660228 \nL 81.571218 158.660228 \nL 82.181165 156.285844 \nL 87.67069 156.285844 \nL 88.280637 157.580963 \nL 93.770161 157.580963 \nL 94.380109 157.36511 \nL 99.869633 157.36511 \nL 100.47958 158.120596 \nL 105.969105 158.120596 \nL 106.579052 157.796816 \nL 112.068576 157.796816 \nL 112.678524 158.012669 \nL 118.168048 158.012669 \nL 118.777995 156.933404 \nL 124.26752 156.933404 \nL 124.877467 159.307788 \nL 130.366991 159.307788 \nL 130.976939 157.688889 \nL 136.466463 157.688889 \nL 137.07641 159.307788 \nL 142.565935 159.307788 \nL 143.175882 159.84742 \nL 148.665406 159.84742 \nL 149.275354 160.279126 \nL 154.764878 160.279126 \nL 155.374825 161.682171 \nL 160.86435 161.682171 \nL 161.474297 160.818759 \nL 166.963821 160.818759 \nL 167.573769 159.955347 \nL 173.063293 159.955347 \nL 173.67324 161.466318 \nL 179.162765 161.466318 \nL 179.772712 160.494979 \nL 185.262236 160.494979 \nL 185.872184 159.84742 \nL 191.361708 159.84742 \nL 191.971655 158.444375 \nL 197.46118 158.444375 \nL 198.071127 159.631567 \nL 203.560651 159.631567 \nL 204.170599 161.682171 \nL 209.660123 161.682171 \nL 210.27007 157.904743 \nL 215.759595 157.904743 \nL 216.369542 158.768155 \nL 221.859066 158.768155 \nL 222.469014 159.091934 \nL 227.958538 159.091934 \nL 228.568485 161.898025 \nL 234.05801 161.898025 \nL 234.667957 161.034612 \nL 240.157481 161.034612 \nL 240.767429 160.710833 \nL 246.256953 160.710833 \nL 246.8669 161.034612 \nL 252.356425 161.034612 \nL 252.966372 162.113878 \nL 258.455896 162.113878 \nL 259.065844 159.955347 \nL 264.555368 159.955347 \nL 265.165315 160.387053 \nL 270.65484 160.387053 \nL 271.264787 159.415714 \nL 276.754311 159.415714 \nL 277.364259 161.142539 \nL 282.853783 161.142539 \nL 283.46373 162.113878 \nL 288.953255 162.113878 \nL 289.563202 160.387053 \nL 295.052726 160.387053 \nL 295.662674 158.660228 \nL 301.152198 158.660228 \nL 301.762145 160.818759 \nL 307.25167 160.818759 \nL 307.861617 160.494979 \nL 313.351141 160.494979 \nL 313.961089 160.710833 \nL 319.450613 160.710833 \nL 320.06056 157.580963 \nL 325.550085 157.580963 \nL 326.160032 159.523641 \nL 331.649556 159.523641 \nL 332.259504 160.387053 \nL 337.749028 160.387053 \nL 338.358975 159.199861 \nL 343.8485 159.199861 \nL 344.458447 158.768155 \nL 349.947972 158.768155 \nL 350.557919 162.113878 \nL 356.047443 162.113878 \nL 356.047443 162.113878 \n\" style=\"fill:none;stroke:#ff7f0e;stroke-linecap:square;stroke-width:1.5;\"/>\n   </g>\n   <g id=\"patch_3\">\n    <path d=\"M 36.465625 239.758125 \nL 36.465625 22.318125 \n\" style=\"fill:none;stroke:#000000;stroke-linecap:square;stroke-linejoin:miter;stroke-width:0.8;\"/>\n   </g>\n   <g id=\"patch_4\">\n    <path d=\"M 371.265625 239.758125 \nL 371.265625 22.318125 \n\" style=\"fill:none;stroke:#000000;stroke-linecap:square;stroke-linejoin:miter;stroke-width:0.8;\"/>\n   </g>\n   <g id=\"patch_5\">\n    <path d=\"M 36.465625 239.758125 \nL 371.265625 239.758125 \n\" style=\"fill:none;stroke:#000000;stroke-linecap:square;stroke-linejoin:miter;stroke-width:0.8;\"/>\n   </g>\n   <g id=\"patch_6\">\n    <path d=\"M 36.465625 22.318125 \nL 371.265625 22.318125 \n\" style=\"fill:none;stroke:#000000;stroke-linecap:square;stroke-linejoin:miter;stroke-width:0.8;\"/>\n   </g>\n   <g id=\"text_15\">\n    <!-- Cora -->\n    <g transform=\"translate(189.86125 16.318125)scale(0.12 -0.12)\">\n     <defs>\n      <path d=\"M 4122 4306 \nL 4122 3641 \nQ 3803 3938 3442 4084 \nQ 3081 4231 2675 4231 \nQ 1875 4231 1450 3742 \nQ 1025 3253 1025 2328 \nQ 1025 1406 1450 917 \nQ 1875 428 2675 428 \nQ 3081 428 3442 575 \nQ 3803 722 4122 1019 \nL 4122 359 \nQ 3791 134 3420 21 \nQ 3050 -91 2638 -91 \nQ 1578 -91 968 557 \nQ 359 1206 359 2328 \nQ 359 3453 968 4101 \nQ 1578 4750 2638 4750 \nQ 3056 4750 3426 4639 \nQ 3797 4528 4122 4306 \nz\n\" id=\"DejaVuSans-43\" transform=\"scale(0.015625)\"/>\n      <path d=\"M 1959 3097 \nQ 1497 3097 1228 2736 \nQ 959 2375 959 1747 \nQ 959 1119 1226 758 \nQ 1494 397 1959 397 \nQ 2419 397 2687 759 \nQ 2956 1122 2956 1747 \nQ 2956 2369 2687 2733 \nQ 2419 3097 1959 3097 \nz\nM 1959 3584 \nQ 2709 3584 3137 3096 \nQ 3566 2609 3566 1747 \nQ 3566 888 3137 398 \nQ 2709 -91 1959 -91 \nQ 1206 -91 779 398 \nQ 353 888 353 1747 \nQ 353 2609 779 3096 \nQ 1206 3584 1959 3584 \nz\n\" id=\"DejaVuSans-6f\" transform=\"scale(0.015625)\"/>\n      <path d=\"M 2631 2963 \nQ 2534 3019 2420 3045 \nQ 2306 3072 2169 3072 \nQ 1681 3072 1420 2755 \nQ 1159 2438 1159 1844 \nL 1159 0 \nL 581 0 \nL 581 3500 \nL 1159 3500 \nL 1159 2956 \nQ 1341 3275 1631 3429 \nQ 1922 3584 2338 3584 \nQ 2397 3584 2469 3576 \nQ 2541 3569 2628 3553 \nL 2631 2963 \nz\n\" id=\"DejaVuSans-72\" transform=\"scale(0.015625)\"/>\n      <path d=\"M 2194 1759 \nQ 1497 1759 1228 1600 \nQ 959 1441 959 1056 \nQ 959 750 1161 570 \nQ 1363 391 1709 391 \nQ 2188 391 2477 730 \nQ 2766 1069 2766 1631 \nL 2766 1759 \nL 2194 1759 \nz\nM 3341 1997 \nL 3341 0 \nL 2766 0 \nL 2766 531 \nQ 2569 213 2275 61 \nQ 1981 -91 1556 -91 \nQ 1019 -91 701 211 \nQ 384 513 384 1019 \nQ 384 1609 779 1909 \nQ 1175 2209 1959 2209 \nL 2766 2209 \nL 2766 2266 \nQ 2766 2663 2505 2880 \nQ 2244 3097 1772 3097 \nQ 1472 3097 1187 3025 \nQ 903 2953 641 2809 \nL 641 3341 \nQ 956 3463 1253 3523 \nQ 1550 3584 1831 3584 \nQ 2591 3584 2966 3190 \nQ 3341 2797 3341 1997 \nz\n\" id=\"DejaVuSans-61\" transform=\"scale(0.015625)\"/>\n     </defs>\n     <use xlink:href=\"#DejaVuSans-43\"/>\n     <use x=\"69.824219\" xlink:href=\"#DejaVuSans-6f\"/>\n     <use x=\"131.005859\" xlink:href=\"#DejaVuSans-72\"/>\n     <use x=\"172.119141\" xlink:href=\"#DejaVuSans-61\"/>\n    </g>\n   </g>\n   <g id=\"legend_1\">\n    <g id=\"patch_7\">\n     <path d=\"M 199.15 59.674375 \nL 364.265625 59.674375 \nQ 366.265625 59.674375 366.265625 57.674375 \nL 366.265625 29.318125 \nQ 366.265625 27.318125 364.265625 27.318125 \nL 199.15 27.318125 \nQ 197.15 27.318125 197.15 29.318125 \nL 197.15 57.674375 \nQ 197.15 59.674375 199.15 59.674375 \nz\n\" style=\"fill:#ffffff;opacity:0.8;stroke:#cccccc;stroke-linejoin:miter;\"/>\n    </g>\n    <g id=\"line2d_17\">\n     <path d=\"M 201.15 35.416562 \nL 221.15 35.416562 \n\" style=\"fill:none;stroke:#1f77b4;stroke-linecap:square;stroke-width:1.5;\"/>\n    </g>\n    <g id=\"line2d_18\"/>\n    <g id=\"text_16\">\n     <!-- training loss - GraphSage -->\n     <g transform=\"translate(229.15 38.916562)scale(0.1 -0.1)\">\n      <defs>\n       <path d=\"M 1172 4494 \nL 1172 3500 \nL 2356 3500 \nL 2356 3053 \nL 1172 3053 \nL 1172 1153 \nQ 1172 725 1289 603 \nQ 1406 481 1766 481 \nL 2356 481 \nL 2356 0 \nL 1766 0 \nQ 1100 0 847 248 \nQ 594 497 594 1153 \nL 594 3053 \nL 172 3053 \nL 172 3500 \nL 594 3500 \nL 594 4494 \nL 1172 4494 \nz\n\" id=\"DejaVuSans-74\" transform=\"scale(0.015625)\"/>\n       <path d=\"M 603 3500 \nL 1178 3500 \nL 1178 0 \nL 603 0 \nL 603 3500 \nz\nM 603 4863 \nL 1178 4863 \nL 1178 4134 \nL 603 4134 \nL 603 4863 \nz\n\" id=\"DejaVuSans-69\" transform=\"scale(0.015625)\"/>\n       <path d=\"M 3513 2113 \nL 3513 0 \nL 2938 0 \nL 2938 2094 \nQ 2938 2591 2744 2837 \nQ 2550 3084 2163 3084 \nQ 1697 3084 1428 2787 \nQ 1159 2491 1159 1978 \nL 1159 0 \nL 581 0 \nL 581 3500 \nL 1159 3500 \nL 1159 2956 \nQ 1366 3272 1645 3428 \nQ 1925 3584 2291 3584 \nQ 2894 3584 3203 3211 \nQ 3513 2838 3513 2113 \nz\n\" id=\"DejaVuSans-6e\" transform=\"scale(0.015625)\"/>\n       <path d=\"M 2906 1791 \nQ 2906 2416 2648 2759 \nQ 2391 3103 1925 3103 \nQ 1463 3103 1205 2759 \nQ 947 2416 947 1791 \nQ 947 1169 1205 825 \nQ 1463 481 1925 481 \nQ 2391 481 2648 825 \nQ 2906 1169 2906 1791 \nz\nM 3481 434 \nQ 3481 -459 3084 -895 \nQ 2688 -1331 1869 -1331 \nQ 1566 -1331 1297 -1286 \nQ 1028 -1241 775 -1147 \nL 775 -588 \nQ 1028 -725 1275 -790 \nQ 1522 -856 1778 -856 \nQ 2344 -856 2625 -561 \nQ 2906 -266 2906 331 \nL 2906 616 \nQ 2728 306 2450 153 \nQ 2172 0 1784 0 \nQ 1141 0 747 490 \nQ 353 981 353 1791 \nQ 353 2603 747 3093 \nQ 1141 3584 1784 3584 \nQ 2172 3584 2450 3431 \nQ 2728 3278 2906 2969 \nL 2906 3500 \nL 3481 3500 \nL 3481 434 \nz\n\" id=\"DejaVuSans-67\" transform=\"scale(0.015625)\"/>\n       <path id=\"DejaVuSans-20\" transform=\"scale(0.015625)\"/>\n       <path d=\"M 603 4863 \nL 1178 4863 \nL 1178 0 \nL 603 0 \nL 603 4863 \nz\n\" id=\"DejaVuSans-6c\" transform=\"scale(0.015625)\"/>\n       <path d=\"M 2834 3397 \nL 2834 2853 \nQ 2591 2978 2328 3040 \nQ 2066 3103 1784 3103 \nQ 1356 3103 1142 2972 \nQ 928 2841 928 2578 \nQ 928 2378 1081 2264 \nQ 1234 2150 1697 2047 \nL 1894 2003 \nQ 2506 1872 2764 1633 \nQ 3022 1394 3022 966 \nQ 3022 478 2636 193 \nQ 2250 -91 1575 -91 \nQ 1294 -91 989 -36 \nQ 684 19 347 128 \nL 347 722 \nQ 666 556 975 473 \nQ 1284 391 1588 391 \nQ 1994 391 2212 530 \nQ 2431 669 2431 922 \nQ 2431 1156 2273 1281 \nQ 2116 1406 1581 1522 \nL 1381 1569 \nQ 847 1681 609 1914 \nQ 372 2147 372 2553 \nQ 372 3047 722 3315 \nQ 1072 3584 1716 3584 \nQ 2034 3584 2315 3537 \nQ 2597 3491 2834 3397 \nz\n\" id=\"DejaVuSans-73\" transform=\"scale(0.015625)\"/>\n       <path d=\"M 313 2009 \nL 1997 2009 \nL 1997 1497 \nL 313 1497 \nL 313 2009 \nz\n\" id=\"DejaVuSans-2d\" transform=\"scale(0.015625)\"/>\n       <path d=\"M 3809 666 \nL 3809 1919 \nL 2778 1919 \nL 2778 2438 \nL 4434 2438 \nL 4434 434 \nQ 4069 175 3628 42 \nQ 3188 -91 2688 -91 \nQ 1594 -91 976 548 \nQ 359 1188 359 2328 \nQ 359 3472 976 4111 \nQ 1594 4750 2688 4750 \nQ 3144 4750 3555 4637 \nQ 3966 4525 4313 4306 \nL 4313 3634 \nQ 3963 3931 3569 4081 \nQ 3175 4231 2741 4231 \nQ 1884 4231 1454 3753 \nQ 1025 3275 1025 2328 \nQ 1025 1384 1454 906 \nQ 1884 428 2741 428 \nQ 3075 428 3337 486 \nQ 3600 544 3809 666 \nz\n\" id=\"DejaVuSans-47\" transform=\"scale(0.015625)\"/>\n       <path d=\"M 1159 525 \nL 1159 -1331 \nL 581 -1331 \nL 581 3500 \nL 1159 3500 \nL 1159 2969 \nQ 1341 3281 1617 3432 \nQ 1894 3584 2278 3584 \nQ 2916 3584 3314 3078 \nQ 3713 2572 3713 1747 \nQ 3713 922 3314 415 \nQ 2916 -91 2278 -91 \nQ 1894 -91 1617 61 \nQ 1341 213 1159 525 \nz\nM 3116 1747 \nQ 3116 2381 2855 2742 \nQ 2594 3103 2138 3103 \nQ 1681 3103 1420 2742 \nQ 1159 2381 1159 1747 \nQ 1159 1113 1420 752 \nQ 1681 391 2138 391 \nQ 2594 391 2855 752 \nQ 3116 1113 3116 1747 \nz\n\" id=\"DejaVuSans-70\" transform=\"scale(0.015625)\"/>\n       <path d=\"M 3513 2113 \nL 3513 0 \nL 2938 0 \nL 2938 2094 \nQ 2938 2591 2744 2837 \nQ 2550 3084 2163 3084 \nQ 1697 3084 1428 2787 \nQ 1159 2491 1159 1978 \nL 1159 0 \nL 581 0 \nL 581 4863 \nL 1159 4863 \nL 1159 2956 \nQ 1366 3272 1645 3428 \nQ 1925 3584 2291 3584 \nQ 2894 3584 3203 3211 \nQ 3513 2838 3513 2113 \nz\n\" id=\"DejaVuSans-68\" transform=\"scale(0.015625)\"/>\n       <path d=\"M 3425 4513 \nL 3425 3897 \nQ 3066 4069 2747 4153 \nQ 2428 4238 2131 4238 \nQ 1616 4238 1336 4038 \nQ 1056 3838 1056 3469 \nQ 1056 3159 1242 3001 \nQ 1428 2844 1947 2747 \nL 2328 2669 \nQ 3034 2534 3370 2195 \nQ 3706 1856 3706 1288 \nQ 3706 609 3251 259 \nQ 2797 -91 1919 -91 \nQ 1588 -91 1214 -16 \nQ 841 59 441 206 \nL 441 856 \nQ 825 641 1194 531 \nQ 1563 422 1919 422 \nQ 2459 422 2753 634 \nQ 3047 847 3047 1241 \nQ 3047 1584 2836 1778 \nQ 2625 1972 2144 2069 \nL 1759 2144 \nQ 1053 2284 737 2584 \nQ 422 2884 422 3419 \nQ 422 4038 858 4394 \nQ 1294 4750 2059 4750 \nQ 2388 4750 2728 4690 \nQ 3069 4631 3425 4513 \nz\n\" id=\"DejaVuSans-53\" transform=\"scale(0.015625)\"/>\n       <path d=\"M 3597 1894 \nL 3597 1613 \nL 953 1613 \nQ 991 1019 1311 708 \nQ 1631 397 2203 397 \nQ 2534 397 2845 478 \nQ 3156 559 3463 722 \nL 3463 178 \nQ 3153 47 2828 -22 \nQ 2503 -91 2169 -91 \nQ 1331 -91 842 396 \nQ 353 884 353 1716 \nQ 353 2575 817 3079 \nQ 1281 3584 2069 3584 \nQ 2775 3584 3186 3129 \nQ 3597 2675 3597 1894 \nz\nM 3022 2063 \nQ 3016 2534 2758 2815 \nQ 2500 3097 2075 3097 \nQ 1594 3097 1305 2825 \nQ 1016 2553 972 2059 \nL 3022 2063 \nz\n\" id=\"DejaVuSans-65\" transform=\"scale(0.015625)\"/>\n      </defs>\n      <use xlink:href=\"#DejaVuSans-74\"/>\n      <use x=\"39.208984\" xlink:href=\"#DejaVuSans-72\"/>\n      <use x=\"80.322266\" xlink:href=\"#DejaVuSans-61\"/>\n      <use x=\"141.601562\" xlink:href=\"#DejaVuSans-69\"/>\n      <use x=\"169.384766\" xlink:href=\"#DejaVuSans-6e\"/>\n      <use x=\"232.763672\" xlink:href=\"#DejaVuSans-69\"/>\n      <use x=\"260.546875\" xlink:href=\"#DejaVuSans-6e\"/>\n      <use x=\"323.925781\" xlink:href=\"#DejaVuSans-67\"/>\n      <use x=\"387.402344\" xlink:href=\"#DejaVuSans-20\"/>\n      <use x=\"419.189453\" xlink:href=\"#DejaVuSans-6c\"/>\n      <use x=\"446.972656\" xlink:href=\"#DejaVuSans-6f\"/>\n      <use x=\"508.154297\" xlink:href=\"#DejaVuSans-73\"/>\n      <use x=\"560.253906\" xlink:href=\"#DejaVuSans-73\"/>\n      <use x=\"612.353516\" xlink:href=\"#DejaVuSans-20\"/>\n      <use x=\"644.140625\" xlink:href=\"#DejaVuSans-2d\"/>\n      <use x=\"680.224609\" xlink:href=\"#DejaVuSans-20\"/>\n      <use x=\"712.011719\" xlink:href=\"#DejaVuSans-47\"/>\n      <use x=\"789.501953\" xlink:href=\"#DejaVuSans-72\"/>\n      <use x=\"830.615234\" xlink:href=\"#DejaVuSans-61\"/>\n      <use x=\"891.894531\" xlink:href=\"#DejaVuSans-70\"/>\n      <use x=\"955.371094\" xlink:href=\"#DejaVuSans-68\"/>\n      <use x=\"1018.75\" xlink:href=\"#DejaVuSans-53\"/>\n      <use x=\"1082.226562\" xlink:href=\"#DejaVuSans-61\"/>\n      <use x=\"1143.505859\" xlink:href=\"#DejaVuSans-67\"/>\n      <use x=\"1206.982422\" xlink:href=\"#DejaVuSans-65\"/>\n     </g>\n    </g>\n    <g id=\"line2d_19\">\n     <path d=\"M 201.15 50.094687 \nL 221.15 50.094687 \n\" style=\"fill:none;stroke:#ff7f0e;stroke-linecap:square;stroke-width:1.5;\"/>\n    </g>\n    <g id=\"line2d_20\"/>\n    <g id=\"text_17\">\n     <!-- test accuracy - GraphSage -->\n     <g transform=\"translate(229.15 53.594687)scale(0.1 -0.1)\">\n      <defs>\n       <path d=\"M 3122 3366 \nL 3122 2828 \nQ 2878 2963 2633 3030 \nQ 2388 3097 2138 3097 \nQ 1578 3097 1268 2742 \nQ 959 2388 959 1747 \nQ 959 1106 1268 751 \nQ 1578 397 2138 397 \nQ 2388 397 2633 464 \nQ 2878 531 3122 666 \nL 3122 134 \nQ 2881 22 2623 -34 \nQ 2366 -91 2075 -91 \nQ 1284 -91 818 406 \nQ 353 903 353 1747 \nQ 353 2603 823 3093 \nQ 1294 3584 2113 3584 \nQ 2378 3584 2631 3529 \nQ 2884 3475 3122 3366 \nz\n\" id=\"DejaVuSans-63\" transform=\"scale(0.015625)\"/>\n       <path d=\"M 544 1381 \nL 544 3500 \nL 1119 3500 \nL 1119 1403 \nQ 1119 906 1312 657 \nQ 1506 409 1894 409 \nQ 2359 409 2629 706 \nQ 2900 1003 2900 1516 \nL 2900 3500 \nL 3475 3500 \nL 3475 0 \nL 2900 0 \nL 2900 538 \nQ 2691 219 2414 64 \nQ 2138 -91 1772 -91 \nQ 1169 -91 856 284 \nQ 544 659 544 1381 \nz\nM 1991 3584 \nL 1991 3584 \nz\n\" id=\"DejaVuSans-75\" transform=\"scale(0.015625)\"/>\n       <path d=\"M 2059 -325 \nQ 1816 -950 1584 -1140 \nQ 1353 -1331 966 -1331 \nL 506 -1331 \nL 506 -850 \nL 844 -850 \nQ 1081 -850 1212 -737 \nQ 1344 -625 1503 -206 \nL 1606 56 \nL 191 3500 \nL 800 3500 \nL 1894 763 \nL 2988 3500 \nL 3597 3500 \nL 2059 -325 \nz\n\" id=\"DejaVuSans-79\" transform=\"scale(0.015625)\"/>\n      </defs>\n      <use xlink:href=\"#DejaVuSans-74\"/>\n      <use x=\"39.208984\" xlink:href=\"#DejaVuSans-65\"/>\n      <use x=\"100.732422\" xlink:href=\"#DejaVuSans-73\"/>\n      <use x=\"152.832031\" xlink:href=\"#DejaVuSans-74\"/>\n      <use x=\"192.041016\" xlink:href=\"#DejaVuSans-20\"/>\n      <use x=\"223.828125\" xlink:href=\"#DejaVuSans-61\"/>\n      <use x=\"285.107422\" xlink:href=\"#DejaVuSans-63\"/>\n      <use x=\"340.087891\" xlink:href=\"#DejaVuSans-63\"/>\n      <use x=\"395.068359\" xlink:href=\"#DejaVuSans-75\"/>\n      <use x=\"458.447266\" xlink:href=\"#DejaVuSans-72\"/>\n      <use x=\"499.560547\" xlink:href=\"#DejaVuSans-61\"/>\n      <use x=\"560.839844\" xlink:href=\"#DejaVuSans-63\"/>\n      <use x=\"615.820312\" xlink:href=\"#DejaVuSans-79\"/>\n      <use x=\"675\" xlink:href=\"#DejaVuSans-20\"/>\n      <use x=\"706.787109\" xlink:href=\"#DejaVuSans-2d\"/>\n      <use x=\"742.871094\" xlink:href=\"#DejaVuSans-20\"/>\n      <use x=\"774.658203\" xlink:href=\"#DejaVuSans-47\"/>\n      <use x=\"852.148438\" xlink:href=\"#DejaVuSans-72\"/>\n      <use x=\"893.261719\" xlink:href=\"#DejaVuSans-61\"/>\n      <use x=\"954.541016\" xlink:href=\"#DejaVuSans-70\"/>\n      <use x=\"1018.017578\" xlink:href=\"#DejaVuSans-68\"/>\n      <use x=\"1081.396484\" xlink:href=\"#DejaVuSans-53\"/>\n      <use x=\"1144.873047\" xlink:href=\"#DejaVuSans-61\"/>\n      <use x=\"1206.152344\" xlink:href=\"#DejaVuSans-67\"/>\n      <use x=\"1269.628906\" xlink:href=\"#DejaVuSans-65\"/>\n     </g>\n    </g>\n   </g>\n  </g>\n </g>\n <defs>\n  <clipPath id=\"p4fd4216589\">\n   <rect height=\"217.44\" width=\"334.8\" x=\"36.465625\" y=\"22.318125\"/>\n  </clipPath>\n </defs>\n</svg>\n",
            "text/plain": [
              "<Figure size 432x288 with 1 Axes>"
            ]
          },
          "metadata": {
            "needs_background": "light"
          },
          "output_type": "display_data"
        }
      ],
      "source": [
        "if 'IS_GRADESCOPE_ENV' not in os.environ:\n",
        "    for args in [\n",
        "        {'model_type': 'GraphSage', 'dataset': 'cora', 'num_layers': 2, 'heads': 1, 'batch_size': 32, 'hidden_dim': 32, 'dropout': 0.5, 'epochs': 500, 'opt': 'adam', 'opt_scheduler': 'none', 'opt_restart': 0, 'weight_decay': 5e-3, 'lr': 0.01},\n",
        "    ]:\n",
        "        args = objectview(args)\n",
        "        \n",
        "        for model in ['GraphSage']:\n",
        "            args.model_type = model\n",
        "\n",
        "            # Match the dimension.\n",
        "            if model == 'GAT':\n",
        "              args.heads = 2\n",
        "            else:\n",
        "              args.heads = 1\n",
        "            if args.dataset == 'cora':\n",
        "                dataset = Planetoid(root='/tmp/cora', name='Cora')\n",
        "            else:\n",
        "                raise NotImplementedError(\"Unknown dataset\") \n",
        "            \n",
        "            test_accs, losses, best_model, best_acc, test_loader = train(dataset, args) \n",
        "            \n",
        "            \n",
        "\n",
        "            print(\"Maximum test set accuracy: {0}\".format(max(test_accs)))\n",
        "            print(\"Minimum loss: {0}\".format(min(losses)))\n",
        "\n",
        "            # Run test for our best model to save the predictions!\n",
        "            test(test_loader, best_model, is_validation=False, save_model_preds=True, model_type=model)\n",
        "\n",
        "            plt.title(dataset.name)\n",
        "            plt.plot(losses, label=\"training loss\" + \" - \" + args.model_type)\n",
        "            plt.plot(test_accs, label=\"test accuracy\" + \" - \" + args.model_type)\n",
        "        plt.legend()\n",
        "        plt.show()\n"
      ]
    },
    {
      "cell_type": "markdown",
      "metadata": {
        "id": "gHELqjARZ1W5"
      },
      "source": [
        "## Question 1.1: What is the maximum accuracy obtained on the test set for GraphSage? (10 points)\n",
        "\n",
        "Running the cell above will show the results of your best model and save your best model's predictions to a file named *CORA-Node-GraphSage.csv*.  \n",
        "\n",
        "As we have seen before you can view this file by clicking on the *Folder* icon on the left side pannel. When you sumbit your assignment, you will have to download this file and attatch it to your submission."
      ]
    }
  ],
  "metadata": {
    "colab": {
      "collapsed_sections": [],
      "machine_shape": "hm",
      "name": "CS224W_Colab3",
      "provenance": []
    },
    "interpreter": {
      "hash": "916dbcbb3f70747c44a77c7bcd40155683ae19c65e1c03b4aa3499c5328201f1"
    },
    "kernelspec": {
      "display_name": "Python 3.8.10 64-bit",
      "name": "python3"
    },
    "language_info": {
      "codemirror_mode": {
        "name": "ipython",
        "version": 3
      },
      "file_extension": ".py",
      "mimetype": "text/x-python",
      "name": "python",
      "nbconvert_exporter": "python",
      "pygments_lexer": "ipython3",
      "version": "3.8.10"
    }
  },
  "nbformat": 4,
  "nbformat_minor": 0
}
